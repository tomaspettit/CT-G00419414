{
 "cells": [
  {
   "cell_type": "markdown",
   "id": "257f263d-11b5-4bf5-8d72-f07e113d581a",
   "metadata": {},
   "source": [
    "<div>\n",
    "    <h1>Assessment Problems</h1>\n",
    "    <hr>\n",
    "</div>"
   ]
  },
  {
   "cell_type": "markdown",
   "id": "037e9c22-0a91-4b5d-bc1e-fdad8b60516c",
   "metadata": {},
   "source": [
    "<h1>Problem 1: Binary Words and Operations</h1>"
   ]
  },
  {
   "cell_type": "code",
   "execution_count": 65,
   "id": "56c57684-1476-454d-b6e3-cdae7c047ac6",
   "metadata": {},
   "outputs": [],
   "source": [
    "# C-like structs.\n",
    "import struct\n",
    "\n",
    "# Math.\n",
    "import math\n",
    "\n",
    "# NumPy.\n",
    "import numpy as np"
   ]
  },
  {
   "cell_type": "code",
   "execution_count": 66,
   "id": "159b1a60",
   "metadata": {},
   "outputs": [
    {
     "data": {
      "text/plain": [
       "4"
      ]
     },
     "execution_count": 66,
     "metadata": {},
     "output_type": "execute_result"
    }
   ],
   "source": [
    "i = 12\n",
    "i.bit_length() # 11"
   ]
  },
  {
   "cell_type": "code",
   "execution_count": 67,
   "id": "d879fdbb",
   "metadata": {},
   "outputs": [],
   "source": [
    "bin1 = 0b1100 # bin1 as x\n",
    "bin2 = 0b1001 # bin2 as y\n",
    "bin3 = 0b1111 # bin3 as z"
   ]
  },
  {
   "cell_type": "markdown",
   "id": "4656bac2",
   "metadata": {},
   "source": [
    "<h2>Symbols and Operations</h2>\n",
    "^ Bitwise AND operation. <br>\n",
    "Bitwise OR (“inclusive-OR”) operation. <br>\n",
    "Bitwise XOR (“exclusive-OR”) operation. <br>\n",
    "Bitwise complement operation. <br>\n",
    "+ Addition modulo 2w. <br>\n",
    "<< Left-shift operation, where x << n is obtained by discarding the left-most n\n",
    "bits of the word x and then padding the result with n zeroes on the right. <br>\n",
    ">> Right-shift operation, where x >> n is obtained by discarding the right-most n bits of the word x and then padding the result with n zeroes on the \n",
    "left. <br>"
   ]
  },
  {
   "cell_type": "markdown",
   "id": "5c807149",
   "metadata": {},
   "source": [
    "<hr>\n",
    "<div>\n",
    "    Parity(x, y, z) => x ⊕ y ⊕ z <br>\n",
    "⊕ = XOR(^)\n",
    "</div>"
   ]
  },
  {
   "cell_type": "code",
   "execution_count": 68,
   "id": "26e9d910",
   "metadata": {},
   "outputs": [],
   "source": [
    "def Parity(x, y, z):\n",
    "\n",
    "    print(f'         x: {bin1:04b}')\n",
    "    print(f'         y: {bin2:04b}')\n",
    "    print(f'         z: {bin3:04b}')\n",
    "    print('-' * 16)\n",
    "\n",
    "    # Each bit is compared; if one is 1 and the other is 0, the result is 1.\n",
    "    # Example: 1 ^ 0 = 1, ((1 ^ 1 = 0) OR (0 ^ 0 = 0))\n",
    "    print(f'     x ^ y: {(x ^ y):04b}')\n",
    "    print(f'         z: {(z):04b}')\n",
    "    print('-' * 16)\n",
    "    print(f' x ^ y ^ z: {(x ^ y ^ z):04b}')"
   ]
  },
  {
   "cell_type": "markdown",
   "id": "2163ec6a",
   "metadata": {},
   "source": [
    "<hr>\n",
    "<div>\n",
    "Ch(x, y, z) = (x ^ y) ⊕ (¬x ^ z)\n",
    "\n",
    "^ = AND(&), <br>\n",
    "¬ = NOT(~)\n",
    "</div>"
   ]
  },
  {
   "cell_type": "code",
   "execution_count": 69,
   "id": "71f4b7f1",
   "metadata": {},
   "outputs": [],
   "source": [
    "def Ch(x, y, z):\n",
    "    print(\"Ch\")\n",
    "\n",
    "    print(f'                  x: {bin1:04b}')\n",
    "    print(f'                  y: {bin2:04b}')\n",
    "    print(f'                  z: {bin3:04b}')\n",
    "    \n",
    "    print('-' * 25)\n",
    "    print(f'            (x & y): {(x & y):04b}')\n",
    "    print(f'           (¬x & z): {(~x & z):04b}')\n",
    "    print('-' * 25)\n",
    "    print(f' (x & y) ^ (¬x & z): {(x & y) ^ (~x & z):04b}')"
   ]
  },
  {
   "cell_type": "markdown",
   "id": "e1b0bc91",
   "metadata": {},
   "source": [
    "<hr>\n",
    "<div>\n",
    "    Maj(x, y, z) => (x ^ y) ⊕ (x ^ z) ⊕ (y ^ z)\n",
    "</div>"
   ]
  },
  {
   "cell_type": "code",
   "execution_count": 70,
   "id": "588a886a",
   "metadata": {},
   "outputs": [],
   "source": [
    "def Maj(x, y, z):\n",
    "    print(\"Maj\")\n",
    "\n",
    "    print(f'                           x: {bin1:04b}')\n",
    "    print(f'                           y: {bin2:04b}')\n",
    "    print(f'                           z: {bin3:04b}')\n",
    "    print('-' * 34)\n",
    "    \n",
    "    print(f'                     (x & y): {(x & y):04b}')\n",
    "    print(f'                     (x & z): {(x & z):04b}')\n",
    "    print(f'                     (y & z): {(y & z):04b}')\n",
    "    print('-' * 34)\n",
    "    print(f'           (x & y) ^ (x & z): {(x & y) ^ (x & z):04b}')\n",
    "    print('-' * 34)\n",
    "    print(f' (x & y) ^ (x & z) ^ (y & z): {(x & y) ^ (x & z) ^ (y & z):04b}')"
   ]
  },
  {
   "cell_type": "code",
   "execution_count": 71,
   "id": "2088682b",
   "metadata": {},
   "outputs": [],
   "source": [
    "\"\"\"\n",
    "The rotate right (circular right shift) operation ROTR n(x), where x is a w-bit word \n",
    "and n is an integer with 0 ≤ n < w, is defined by \n",
    "ROTR n(x)=(x >> n) v (x << w - n).\n",
    "\"\"\"\n",
    "\n",
    "# v = OR (|)\n",
    "\n",
    "def ROTR(x, n, w):\n",
    "    result = (x >> n) | (x << w - n)\n",
    "    return result\n",
    "\n",
    "\"\"\"\n",
    "The right shift operation SHR n(x), where x is a w-bit word and n is an integer with 0 ≤ n < w, \n",
    "is defined by SHR n(x)=x >> n\n",
    "\"\"\"\n",
    "def SHR(x, n):\n",
    "    return x >> n"
   ]
  },
  {
   "cell_type": "markdown",
   "id": "d5b881ce",
   "metadata": {},
   "source": [
    "<hr>\n",
    "<div>\n",
    "    Sigma0(x) = ROTR(x, 2, 32) ⊕ ROTR(x, 13, 32) ⊕ ROTR(x, 22, 32) <br>\n",
    "    Sigma1(x) = ROTR(x, 6, 32) ⊕ ROTR(x, 11, 32) ⊕ ROTR(x, 25, 32) <br>\n",
    "    sigma0(x) = ROTR(x, 7, 32) ⊕ ROTR(x, 18, 32) ⊕ SHR^10(x) <br>\n",
    "    sigma1(x) = ROTR(x, 17, 32) ⊕ ROTR(x, 19, 32) ⊕ SHR(a, 10)\n",
    "\n",
    "</div>"
   ]
  },
  {
   "cell_type": "code",
   "execution_count": 72,
   "id": "4f973e0a",
   "metadata": {},
   "outputs": [],
   "source": [
    "# Sigma0(x) = ROTR(x, 2, 32) ⊕ ROTR(x, 13, 32) ⊕ ROTR(x, 22, 32)\n",
    "def Sigma0(x):\n",
    "    S0 = ROTR(x, 2, 32) ^ ROTR(x, 13, 32) ^ ROTR(x, 22, 32)\n",
    "    return S0\n",
    "\n",
    "# Sigma1(x) = ROTR(x, 6, 32) ⊕ ROTR(x, 11, 32) ⊕ ROTR(x, 25, 32)\n",
    "def Sigma1(x):\n",
    "    S1 = ROTR(x, 6, 32) ^ ROTR(x, 11, 32) ^ ROTR(x, 25, 32)\n",
    "    return S1\n",
    "\n",
    "# sigma0(x) = ROTR(x, 7, 32) ⊕ ROTR(x, 18, 32) ⊕ SHR^10(x)\n",
    "def sigma0(x):\n",
    "    s0 = ROTR(x, 7, 32) ^ ROTR(x, 18, 32) ^ SHR(x, 10)\n",
    "    return s0\n",
    "\n",
    "# sigma1(x) = ROTR(x, 17, 32) ⊕ ROTR(x, 19, 32) ⊕ SHR(a, 10)\n",
    "def sigma1(x):\n",
    "    s1 = ROTR(x, 17, 32) ^ ROTR(x, 19, 32) ^ SHR(x, 10)\n",
    "    return s1"
   ]
  },
  {
   "cell_type": "code",
   "execution_count": 73,
   "id": "bb0b925c",
   "metadata": {},
   "outputs": [
    {
     "name": "stdout",
     "output_type": "stream",
     "text": [
      "         x: 1100\n",
      "         y: 1001\n",
      "         z: 1111\n",
      "----------------\n",
      "     x ^ y: 0101\n",
      "         z: 1111\n",
      "----------------\n",
      " x ^ y ^ z: 1010\n"
     ]
    }
   ],
   "source": [
    "Parity(bin1, bin2, bin3)"
   ]
  },
  {
   "cell_type": "code",
   "execution_count": 74,
   "id": "5625f3a8",
   "metadata": {},
   "outputs": [
    {
     "name": "stdout",
     "output_type": "stream",
     "text": [
      "Ch\n",
      "                  x: 1100\n",
      "                  y: 1001\n",
      "                  z: 1111\n",
      "-------------------------\n",
      "            (x & y): 1000\n",
      "           (¬x & z): 0011\n",
      "-------------------------\n",
      " (x & y) ^ (¬x & z): 1011\n"
     ]
    }
   ],
   "source": [
    "Ch(bin1, bin2, bin3)"
   ]
  },
  {
   "cell_type": "code",
   "execution_count": 75,
   "id": "d36b56cb",
   "metadata": {},
   "outputs": [
    {
     "name": "stdout",
     "output_type": "stream",
     "text": [
      "Maj\n",
      "                           x: 1100\n",
      "                           y: 1001\n",
      "                           z: 1111\n",
      "----------------------------------\n",
      "                     (x & y): 1000\n",
      "                     (x & z): 1100\n",
      "                     (y & z): 1001\n",
      "----------------------------------\n",
      "           (x & y) ^ (x & z): 0100\n",
      "----------------------------------\n",
      " (x & y) ^ (x & z) ^ (y & z): 1101\n"
     ]
    }
   ],
   "source": [
    "Maj(bin1, bin2, bin3)"
   ]
  },
  {
   "cell_type": "code",
   "execution_count": 76,
   "id": "9d2da956",
   "metadata": {},
   "outputs": [
    {
     "name": "stdout",
     "output_type": "stream",
     "text": [
      "Sigma0: 12891205635\n",
      "--------------------\n",
      "Sigma1: 830473728\n",
      "--------------------\n",
      "sigma0: 402849792\n",
      "--------------------\n",
      "sigma1: 491520\n",
      "--------------------\n"
     ]
    }
   ],
   "source": [
    "print(f'Sigma0: {Sigma0(bin1)}')\n",
    "print(\"-\" * 20)\n",
    "\n",
    "print(f'Sigma1: {Sigma1(bin1)}')\n",
    "print(\"-\" * 20)\n",
    "\n",
    "print(f'sigma0: {sigma0(bin1)}')\n",
    "print(\"-\" * 20)\n",
    "\n",
    "print(f'sigma1: {sigma1(bin1)}')\n",
    "print(\"-\" * 20)"
   ]
  },
  {
   "cell_type": "markdown",
   "id": "b6cb1132",
   "metadata": {},
   "source": [
    "<h1>End of Problem 1</h1>\n",
    "<hr>"
   ]
  },
  {
   "cell_type": "markdown",
   "id": "608d814d-c850-4026-81d8-2cf4a0bd0907",
   "metadata": {},
   "source": [
    "<h1>Problem 2: Fractional Parts of Cube Roots</h1>"
   ]
  },
  {
   "cell_type": "code",
   "execution_count": 77,
   "id": "25f63114-ae67-4c80-9273-0a0a1403256d",
   "metadata": {},
   "outputs": [],
   "source": [
    "# Plots.\n",
    "import matplotlib.pyplot as plt"
   ]
  },
  {
   "cell_type": "code",
   "execution_count": 78,
   "id": "f3c0d126",
   "metadata": {},
   "outputs": [],
   "source": [
    "# Brute force test for primality.\n",
    "def isprime(n):\n",
    "    \"\"\"Test whether n is prime.\"\"\"\n",
    "    # Loop through 2...n-1.\n",
    "    for i in range(2, n):\n",
    "        # Calculate remainder of n divided by i.\n",
    "        if n % i == 0:\n",
    "            # If this is zero, then n is not prime.\n",
    "            return False\n",
    "            \n",
    "    # If we get here, then n is prime.\n",
    "    return True"
   ]
  },
  {
   "cell_type": "code",
   "execution_count": 79,
   "id": "4422835c",
   "metadata": {},
   "outputs": [
    {
     "name": "stdout",
     "output_type": "stream",
     "text": [
      "primes = [2, 3, 5, 7, 11, 13, 17, 19, 23, 29, 31, 37, 41, 43, 47, 53, 59, 61, 67, 71, 73, 79, 83, 89, 97, 101, 103, 107, 109, 113, 127, 131, 137, 139, 149, 151, 157, 163, 167, 173, 179, 181, 191, 193, 197, 199, 211, 223, 227, 229, 233, 239, 241, 251, 257, 263, 269, 271, 277, 281, 283, 293, 307, 311]\n"
     ]
    }
   ],
   "source": [
    "# Start with the first prime number\n",
    "f64 = 2\n",
    "\n",
    "primes = []\n",
    "\n",
    "while len(primes) < 64:\n",
    "    if isprime(f64):\n",
    "        primes.append(f64)\n",
    "    f64 += 1\n",
    "\n",
    "print(f'primes = {primes}')"
   ]
  },
  {
   "cell_type": "code",
   "execution_count": 80,
   "id": "451ec909",
   "metadata": {},
   "outputs": [],
   "source": [
    "# First 32 bits of fractional part of cube roots.\n",
    "frac32 = []\n",
    "for prime in primes:\n",
    "    \n",
    "    # Compute cube root.\n",
    "    root = prime ** (1 / 3)\n",
    "    \n",
    "    # Modulo 1.\n",
    "    frac = root - int(root)\n",
    "    \n",
    "    # Move 32 bits in front of decimal point.\n",
    "    frac = frac * (2 ** 32)\n",
    "    \n",
    "    # Convert to integer.\n",
    "    bits = int(frac)\n",
    "    \n",
    "    # Append the bits to frac32.\n",
    "    frac32.append(bits)"
   ]
  },
  {
   "cell_type": "code",
   "execution_count": 81,
   "id": "3ec13856",
   "metadata": {},
   "outputs": [
    {
     "name": "stdout",
     "output_type": "stream",
     "text": [
      "     2 -> 01000010100010100010111110011000\n",
      "     3 -> 01110001001101110100010010010001\n",
      "     5 -> 10110101110000001111101111001111\n",
      "     7 -> 11101001101101011101101110100101\n",
      "    11 -> 00111001010101101100001001011011\n",
      "    13 -> 01011001111100010001000111110001\n",
      "    17 -> 10010010001111111000001010100100\n",
      "    19 -> 10101011000111000101111011010101\n",
      "    23 -> 11011000000001111010101010011000\n",
      "    29 -> 00010010100000110101101100000001\n",
      "    31 -> 00100100001100011000010110111110\n",
      "    37 -> 01010101000011000111110111000011\n",
      "    41 -> 01110010101111100101110101110100\n",
      "    43 -> 10000000110111101011000111111110\n",
      "    47 -> 10011011110111000000011010100111\n",
      "    53 -> 11000001100110111111000101110100\n",
      "    59 -> 11100100100110110110100111000001\n",
      "    61 -> 11101111101111100100011110000110\n",
      "    67 -> 00001111110000011001110111000110\n",
      "    71 -> 00100100000011001010000111001100\n",
      "    73 -> 00101101111010010010110001101111\n",
      "    79 -> 01001010011101001000010010101010\n",
      "    83 -> 01011100101100001010100111011100\n",
      "    89 -> 01110110111110011000100011011010\n",
      "    97 -> 10011000001111100101000101010010\n",
      "   101 -> 10101000001100011100011001101101\n",
      "   103 -> 10110000000000110010011111001000\n",
      "   107 -> 10111111010110010111111111000111\n",
      "   109 -> 11000110111000000000101111110011\n",
      "   113 -> 11010101101001111001000101000111\n",
      "   127 -> 00000110110010100110001101010001\n",
      "   131 -> 00010100001010010010100101100111\n",
      "   137 -> 00100111101101110000101010000101\n",
      "   139 -> 00101110000110110010000100111000\n",
      "   149 -> 01001101001011000110110111111100\n",
      "   151 -> 01010011001110000000110100010011\n",
      "   157 -> 01100101000010100111001101010100\n",
      "   163 -> 01110110011010100000101010111011\n",
      "   167 -> 10000001110000101100100100101110\n",
      "   173 -> 10010010011100100010110010000101\n",
      "   179 -> 10100010101111111110100010100001\n",
      "   181 -> 10101000000110100110011001001011\n",
      "   191 -> 11000010010010111000101101110000\n",
      "   193 -> 11000111011011000101000110100011\n",
      "   197 -> 11010001100100101110100000011001\n",
      "   199 -> 11010110100110010000011000100100\n",
      "   211 -> 11110100000011100011010110000101\n",
      "   223 -> 00010000011010101010000001110000\n",
      "   227 -> 00011001101001001100000100010110\n",
      "   229 -> 00011110001101110110110000001000\n",
      "   233 -> 00100111010010000111011101001100\n",
      "   239 -> 00110100101100001011110010110101\n",
      "   241 -> 00111001000111000000110010110011\n",
      "   251 -> 01001110110110001010101001001010\n",
      "   257 -> 01011011100111001100101001001111\n",
      "   263 -> 01101000001011100110111111110011\n",
      "   269 -> 01110100100011111000001011101110\n",
      "   271 -> 01111000101001010110001101101111\n",
      "   277 -> 10000100110010000111100000010100\n",
      "   281 -> 10001100110001110000001000001000\n",
      "   283 -> 10010000101111101111111111111010\n",
      "   293 -> 10100100010100000110110011101011\n",
      "   307 -> 10111110111110011010001111110111\n",
      "   311 -> 11000110011100010111100011110010\n"
     ]
    }
   ],
   "source": [
    "# Print.\n",
    "for prime, bits in zip(primes, frac32):\n",
    "    print(f\"{prime:6} -> {bits:032b}\")"
   ]
  },
  {
   "cell_type": "code",
   "execution_count": 82,
   "id": "2b89030a",
   "metadata": {},
   "outputs": [
    {
     "name": "stdout",
     "output_type": "stream",
     "text": [
      "428a2f98\n",
      "71374491\n",
      "b5c0fbcf\n",
      "e9b5dba5\n",
      "3956c25b\n",
      "59f111f1\n",
      "923f82a4\n",
      "ab1c5ed5\n",
      "d807aa98\n",
      "12835b01\n",
      "243185be\n",
      "550c7dc3\n",
      "72be5d74\n",
      "80deb1fe\n",
      "9bdc06a7\n",
      "c19bf174\n",
      "e49b69c1\n",
      "efbe4786\n",
      "0fc19dc6\n",
      "240ca1cc\n",
      "2de92c6f\n",
      "4a7484aa\n",
      "5cb0a9dc\n",
      "76f988da\n",
      "983e5152\n",
      "a831c66d\n",
      "b00327c8\n",
      "bf597fc7\n",
      "c6e00bf3\n",
      "d5a79147\n",
      "06ca6351\n",
      "14292967\n",
      "27b70a85\n",
      "2e1b2138\n",
      "4d2c6dfc\n",
      "53380d13\n",
      "650a7354\n",
      "766a0abb\n",
      "81c2c92e\n",
      "92722c85\n",
      "a2bfe8a1\n",
      "a81a664b\n",
      "c24b8b70\n",
      "c76c51a3\n",
      "d192e819\n",
      "d6990624\n",
      "f40e3585\n",
      "106aa070\n",
      "19a4c116\n",
      "1e376c08\n",
      "2748774c\n",
      "34b0bcb5\n",
      "391c0cb3\n",
      "4ed8aa4a\n",
      "5b9cca4f\n",
      "682e6ff3\n",
      "748f82ee\n",
      "78a5636f\n",
      "84c87814\n",
      "8cc70208\n",
      "90befffa\n",
      "a4506ceb\n",
      "bef9a3f7\n",
      "c67178f2\n"
     ]
    }
   ],
   "source": [
    "# Display the result in hexadecimal.\n",
    "for frac in frac32:\n",
    "    print(f\"{frac:08x}\")"
   ]
  },
  {
   "cell_type": "markdown",
   "id": "745a2659",
   "metadata": {},
   "source": [
    "<h1>End of Problem 2</h1>\n",
    "<hr>"
   ]
  },
  {
   "cell_type": "markdown",
   "id": "544a929b-1190-4867-b5af-a8d56d7be404",
   "metadata": {},
   "source": [
    "<h1>Problem 3: Padding</h1>"
   ]
  },
  {
   "cell_type": "code",
   "execution_count": null,
   "id": "a6814afd-7d25-4956-a227-50e82fbf6a3b",
   "metadata": {},
   "outputs": [],
   "source": []
  },
  {
   "cell_type": "markdown",
   "id": "1084c60a",
   "metadata": {},
   "source": [
    "<h1>End of Problem 3</h1>\n",
    "<hr>"
   ]
  },
  {
   "cell_type": "markdown",
   "id": "530af472-c634-4817-a7aa-dc63df100b15",
   "metadata": {},
   "source": [
    "<h1>Problem 4: Hashes</h1>"
   ]
  },
  {
   "cell_type": "code",
   "execution_count": null,
   "id": "9ffb7609-d42c-42a9-b112-727d5b7e4e7e",
   "metadata": {},
   "outputs": [],
   "source": []
  },
  {
   "cell_type": "markdown",
   "id": "8d3afd33",
   "metadata": {},
   "source": [
    "<h1>End of Problem 4</h1>\n",
    "<hr>"
   ]
  },
  {
   "cell_type": "markdown",
   "id": "9c23763a-e2c6-417a-b7fd-0d52f868f962",
   "metadata": {},
   "source": [
    "<h1>Problem 5: Passwords</h1>"
   ]
  },
  {
   "cell_type": "code",
   "execution_count": null,
   "id": "c0c98263-96e7-4155-ab68-2867fff1a75c",
   "metadata": {},
   "outputs": [],
   "source": []
  },
  {
   "cell_type": "markdown",
   "id": "1506615d",
   "metadata": {},
   "source": [
    "<h1>End of Problem 5</h1>\n",
    "<hr>"
   ]
  },
  {
   "cell_type": "markdown",
   "id": "30267b15",
   "metadata": {},
   "source": [
    "<h1>End of the Assessment<h1>"
   ]
  }
 ],
 "metadata": {
  "kernelspec": {
   "display_name": "Python 3 (ipykernel)",
   "language": "python",
   "name": "python3"
  },
  "language_info": {
   "codemirror_mode": {
    "name": "ipython",
    "version": 3
   },
   "file_extension": ".py",
   "mimetype": "text/x-python",
   "name": "python",
   "nbconvert_exporter": "python",
   "pygments_lexer": "ipython3",
   "version": "3.12.7"
  }
 },
 "nbformat": 4,
 "nbformat_minor": 5
}
