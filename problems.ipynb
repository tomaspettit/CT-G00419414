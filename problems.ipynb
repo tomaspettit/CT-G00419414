{
 "cells": [
  {
   "cell_type": "markdown",
   "id": "257f263d-11b5-4bf5-8d72-f07e113d581a",
   "metadata": {},
   "source": [
    "<div>\n",
    "    <h1>Assessment Problems</h1>\n",
    "    <hr>\n",
    "</div>"
   ]
  },
  {
   "cell_type": "markdown",
   "id": "037e9c22-0a91-4b5d-bc1e-fdad8b60516c",
   "metadata": {},
   "source": [
    "<h1>Problem 1</h1>"
   ]
  },
  {
   "cell_type": "code",
   "execution_count": null,
   "id": "56c57684-1476-454d-b6e3-cdae7c047ac6",
   "metadata": {},
   "outputs": [],
   "source": []
  },
  {
   "cell_type": "markdown",
   "id": "608d814d-c850-4026-81d8-2cf4a0bd0907",
   "metadata": {},
   "source": [
    "<h1>Problem 2</h1>"
   ]
  },
  {
   "cell_type": "code",
   "execution_count": null,
   "id": "25f63114-ae67-4c80-9273-0a0a1403256d",
   "metadata": {},
   "outputs": [],
   "source": []
  },
  {
   "cell_type": "markdown",
   "id": "544a929b-1190-4867-b5af-a8d56d7be404",
   "metadata": {},
   "source": [
    "<h1>Problem 3</h1>"
   ]
  },
  {
   "cell_type": "code",
   "execution_count": null,
   "id": "a6814afd-7d25-4956-a227-50e82fbf6a3b",
   "metadata": {},
   "outputs": [],
   "source": []
  },
  {
   "cell_type": "markdown",
   "id": "530af472-c634-4817-a7aa-dc63df100b15",
   "metadata": {},
   "source": [
    "<h1>Problem 4</h1>"
   ]
  },
  {
   "cell_type": "code",
   "execution_count": null,
   "id": "9ffb7609-d42c-42a9-b112-727d5b7e4e7e",
   "metadata": {},
   "outputs": [],
   "source": []
  },
  {
   "cell_type": "markdown",
   "id": "9c23763a-e2c6-417a-b7fd-0d52f868f962",
   "metadata": {},
   "source": [
    "<h1>Problem 5</h1>"
   ]
  },
  {
   "cell_type": "code",
   "execution_count": null,
   "id": "c0c98263-96e7-4155-ab68-2867fff1a75c",
   "metadata": {},
   "outputs": [],
   "source": []
  }
 ],
 "metadata": {
  "kernelspec": {
   "display_name": "Python 3 (ipykernel)",
   "language": "python",
   "name": "python3"
  },
  "language_info": {
   "codemirror_mode": {
    "name": "ipython",
    "version": 3
   },
   "file_extension": ".py",
   "mimetype": "text/x-python",
   "name": "python",
   "nbconvert_exporter": "python",
   "pygments_lexer": "ipython3",
   "version": "3.12.7"
  }
 },
 "nbformat": 4,
 "nbformat_minor": 5
}
